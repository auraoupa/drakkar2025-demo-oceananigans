{
 "cells": [
  {
   "cell_type": "markdown",
   "source": [
    "# Cabbeling simulation\n",
    "\n",
    "Convection driven by density gradients appearing because of the mixing of\n",
    "cold and hot water at the same denisty. This is cause by the nonlinearity of the equation of state of water.\n",
    "We start with a stable fluid, with hot water (7.55ᵒ C) above cold water (1ᵒ C).\n",
    "The fluid is initially at rest because the density is constant in the domain, but mixing of cold and hot water\n",
    "generates temperatures that correspond to higher density (the maximum density of fresh water is at 4ᵒ C) and\n",
    "the mixed water starts to sink."
   ],
   "metadata": {}
  },
  {
   "outputs": [],
   "cell_type": "code",
   "source": [
    "using Pkg\n",
    "pkg\"add Oceananigans#ss/for-drakkar, SeawaterPolynomials, CairoMakie, FileIO\"\n",
    "\n",
    "using Oceananigans\n",
    "using Oceananigans.Models: seawater_density\n",
    "using SeawaterPolynomials: TEOS10EquationOfState"
   ],
   "metadata": {},
   "execution_count": null
  },
  {
   "cell_type": "markdown",
   "source": [
    "We run this example on a CPU.\n",
    "To run it on a GPU, replace `CPU()` with `GPU()` and crank up the resolution!"
   ],
   "metadata": {}
  },
  {
   "outputs": [],
   "cell_type": "code",
   "source": [
    "arch = CPU()"
   ],
   "metadata": {},
   "execution_count": null
  },
  {
   "cell_type": "markdown",
   "source": [
    "We start with defining a 2D grid in the x-z plane with 512x256 grid points.\n",
    "This is not enough to resolve the Kolmogorov scale so we are in an LES regime"
   ],
   "metadata": {}
  },
  {
   "outputs": [],
   "cell_type": "code",
   "source": [
    "Nx, Ny = 256, 256\n",
    "grid = RectilinearGrid(arch,\n",
    "                       size = (Nx, Ny),\n",
    "                       x = (0, 0.5),\n",
    "                       z = (-0.5, 0.0),\n",
    "                       topology = (Bounded, Flat, Bounded))"
   ],
   "metadata": {},
   "execution_count": null
  },
  {
   "cell_type": "markdown",
   "source": [
    "We use the TEOS10 equation of state to compute the density of seawater.\n",
    "This is a nonlinear equation of state that depends on temperature, salinity and pressure.\n",
    "We set the salinity to zero and the gravitational acceleration to 9.81 m/s²."
   ],
   "metadata": {}
  },
  {
   "outputs": [],
   "cell_type": "code",
   "source": [
    "equation_of_state = TEOS10EquationOfState(reference_density=1000)\n",
    "buoyancy = SeawaterBuoyancy(; equation_of_state,\n",
    "                              constant_salinity=0,\n",
    "                              gravitational_acceleration=9.81)"
   ],
   "metadata": {},
   "execution_count": null
  },
  {
   "cell_type": "markdown",
   "source": [
    "Since we are in an LES regime we need a LES closure. In this case we use a high-order WENO\n",
    "scheme to provide us the implicit diffusion necessary to represent subgrid-scale diffusion in\n",
    "the model. Other options would include an explicit closure like\n",
    "the Smagorinsky model (`closure = AnisotropicMinimumDissipation()`)."
   ],
   "metadata": {}
  },
  {
   "outputs": [],
   "cell_type": "code",
   "source": [
    "model = NonhydrostaticModel(; grid,\n",
    "                              buoyancy,\n",
    "                              advection=WENO(order=7),\n",
    "                              tracers=:T)"
   ],
   "metadata": {},
   "execution_count": null
  },
  {
   "cell_type": "markdown",
   "source": [
    "Setting the initial conditions to an unstable equilibrium with hot water above (and below) cold water.\n",
    "and some random perturbations in the velocity field to trigger the instability.\n",
    "To give it a nice spin, let's initialize the temperature field with the Drakkar Ocean logo."
   ],
   "metadata": {}
  },
  {
   "outputs": [],
   "cell_type": "code",
   "source": [
    "T₁, T₂ = 1, 7.55 # ᵒC\n",
    "Ξᵢ = (x, z) -> 1e-4 * randn()\n",
    "\n",
    "using FileIO\n",
    "\n",
    "download(\"https://drakkar2025.sciencesconf.org/data/header/DrakkarOcean_1.png\", \"logo-drakkar.png\")\n",
    "\n",
    "img   = FileIO.load(\"logo-drakkar.png\")\n",
    "alpha = getproperty.(img, :alpha) .|> Float64\n",
    "alpha = reverse(alpha', dims=2)\n",
    "alpha = alpha[1:2:end, 1:2:end]\n",
    "borderx = zeros((256 - size(alpha, 1)) ÷ 2, size(alpha, 2))\n",
    "alpha   = vcat(borderx, alpha, borderx)\n",
    "bordery = zeros(size(alpha, 1), (256 - size(alpha, 2)) ÷ 2)\n",
    "alpha   = hcat(bordery, alpha, bordery)\n",
    "\n",
    "Tᵢ = [ifelse(alpha[i, j] == 0, T₁, T₂) for i in 1:Nx, j in 1:Ny]\n",
    "\n",
    "set!(model, T=Tᵢ, u=Ξᵢ, v=Ξᵢ, w=Ξᵢ)"
   ],
   "metadata": {},
   "execution_count": null
  },
  {
   "cell_type": "markdown",
   "source": [
    "We set the time step to 0.2 seconds and the stop time to 100 seconds."
   ],
   "metadata": {}
  },
  {
   "outputs": [],
   "cell_type": "code",
   "source": [
    "simulation = Simulation(model; Δt = 0.1, stop_time=100)"
   ],
   "metadata": {},
   "execution_count": null
  },
  {
   "cell_type": "markdown",
   "source": [
    "We add a callback to print the progress of the simulation every 10 iterations."
   ],
   "metadata": {}
  },
  {
   "outputs": [],
   "cell_type": "code",
   "source": [
    "function progress(sim)\n",
    "    u, v, w = sim.model.velocities\n",
    "    @info string(\"Iter: \", iteration(sim), \", time: \", prettytime(sim), \", max(w): \", maximum(abs, w))\n",
    "end\n",
    "\n",
    "add_callback!(simulation, progress, IterationInterval(10))"
   ],
   "metadata": {},
   "execution_count": null
  },
  {
   "cell_type": "markdown",
   "source": [
    "We use a variable time-stepping to make sure we don't overshoot the CFL condition."
   ],
   "metadata": {}
  },
  {
   "outputs": [],
   "cell_type": "code",
   "source": [
    "conjure_time_step_wizard!(simulation, cfl=0.7)"
   ],
   "metadata": {},
   "execution_count": null
  },
  {
   "cell_type": "markdown",
   "source": [
    "Let's set an output writer to collect the density and temperature fields every second."
   ],
   "metadata": {}
  },
  {
   "outputs": [],
   "cell_type": "code",
   "source": [
    "ρ = seawater_density(model)\n",
    "T = model.tracers.T\n",
    "\n",
    "output_writer = JLD2OutputWriter(model, (; ρ, T),\n",
    "                                 filename = \"cabbeling\",\n",
    "                                 schedule = TimeInterval(1),\n",
    "                                 overwrite_existing = true)\n",
    "\n",
    "simulation.output_writers[:jld2] = output_writer"
   ],
   "metadata": {},
   "execution_count": null
  },
  {
   "cell_type": "markdown",
   "source": [
    "Running the simulation!"
   ],
   "metadata": {}
  },
  {
   "outputs": [],
   "cell_type": "code",
   "source": [
    "run!(simulation)"
   ],
   "metadata": {},
   "execution_count": null
  },
  {
   "cell_type": "markdown",
   "source": [
    "## Visualizing the simulation\n",
    "\n",
    "Let's use Makie to visualize the density and temperature fields in the x-z plane."
   ],
   "metadata": {}
  },
  {
   "outputs": [],
   "cell_type": "code",
   "source": [
    "using CairoMakie\n",
    "\n",
    "ρt = FieldTimeSeries(\"cabbeling.jld2\", \"ρ\")\n",
    "Tt = FieldTimeSeries(\"cabbeling.jld2\", \"T\")\n",
    "\n",
    "Nt = length(ρt)\n",
    "Nx = size(ρt, 1)\n",
    "\n",
    "i = Int(Nx / 2)\n",
    "n = Observable(length(ρt.times))\n",
    "ρ = @lift interior(ρt[$n], :, 1, :)\n",
    "T = @lift interior(Tt[$n], :, 1, :)\n",
    "x, y, z = nodes(ρt)\n",
    "\n",
    "set_theme!(Theme(fontsize=12))\n",
    "fig = Figure(size=(1000, 500))\n",
    "\n",
    "ρrange = (minimum(ρt[1]), maximum(ρt))\n",
    "\n",
    "axT = Axis(fig[1, 2], xlabel=\"x (m)\", ylabel=\"z (m)\")\n",
    "xlims!(axT,  0, 0.5)\n",
    "ylims!(axT, -0.5, 0)\n",
    "\n",
    "axρ = Axis(fig[1, 3], xlabel=\"x (m)\", ylabel=\"z (m)\")\n",
    "xlims!(axρ,  0, 0.5)\n",
    "ylims!(axρ, -0.5, 0)\n",
    "\n",
    "hm = heatmap!(axT, x, z, T, colormap=:magma, colorrange=(1.55, 7))\n",
    "Colorbar(fig[1, 1], hm, label=\"Temperature (ᵒC)\", flipaxis=false)\n",
    "\n",
    "hm = heatmap!(axρ, x, z, ρ, colormap=Makie.Reverse(:grays), colorrange=ρrange)\n",
    "Colorbar(fig[1, 4], hm, label=\"Density (kg m⁻³)\")\n",
    "\n",
    "record(fig, \"cabbeling_2d.mp4\", 1:Nt, framerate=5) do nn\n",
    "    @info \"Drawing frame $nn of $Nt...\"\n",
    "    n[] = nn\n",
    "end"
   ],
   "metadata": {},
   "execution_count": null
  },
  {
   "cell_type": "markdown",
   "source": [
    "---\n",
    "\n",
    "*This notebook was generated using [Literate.jl](https://github.com/fredrikekre/Literate.jl).*"
   ],
   "metadata": {}
  }
 ],
 "nbformat_minor": 3,
 "metadata": {
  "language_info": {
   "file_extension": ".jl",
   "mimetype": "application/julia",
   "name": "julia",
   "version": "1.10.7"
  },
  "kernelspec": {
   "name": "julia-1.10",
   "display_name": "Julia 1.10.7",
   "language": "julia"
  }
 },
 "nbformat": 4
}
