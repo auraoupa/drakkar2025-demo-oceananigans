{
 "cells": [
  {
   "cell_type": "markdown",
   "id": "7aa17960-2472-4eaa-8508-e9ab48e843f8",
   "metadata": {},
   "source": [
    "# Your first model"
   ]
  },
  {
   "cell_type": "code",
   "execution_count": 1,
   "id": "cef6fea6-4d13-4c4f-a99f-d435448f4649",
   "metadata": {},
   "outputs": [],
   "source": [
    "using Oceananigans\n",
    "using CairoMakie"
   ]
  },
  {
   "cell_type": "code",
   "execution_count": 2,
   "id": "3ba7a2c1-be9e-4da0-a821-bca770a9340b",
   "metadata": {},
   "outputs": [
    {
     "data": {
      "text/plain": [
       "256×256×1 RectilinearGrid{Float64, Periodic, Periodic, Flat} on CPU with 3×3×0 halo\n",
       "├── Periodic x ∈ [-3.14159, 3.14159) regularly spaced with Δx=0.0245437\n",
       "├── Periodic y ∈ [-3.14159, 3.14159) regularly spaced with Δy=0.0245437\n",
       "└── Flat z                           "
      ]
     },
     "execution_count": 2,
     "metadata": {},
     "output_type": "execute_result"
    }
   ],
   "source": [
    "grid = RectilinearGrid(size=(256, 256), x=(-π, π), y=(-π, π), topology=(Periodic, Periodic, Flat))"
   ]
  },
  {
   "cell_type": "code",
   "execution_count": 3,
   "id": "3de77b00-5850-4820-8e4a-c1e9fe5f8976",
   "metadata": {},
   "outputs": [
    {
     "name": "stderr",
     "output_type": "stream",
     "text": [
      "\u001b[33m\u001b[1m┌ \u001b[22m\u001b[39m\u001b[33m\u001b[1mWarning: \u001b[22m\u001b[39mInflating model grid halo size to (4, 4, 0) and recreating grid. Note that an ImmersedBoundaryGrid requires an extra halo point in all non-flat directions compared to a non-immersed boundary grid.\n",
      "\u001b[33m\u001b[1m└ \u001b[22m\u001b[39m\u001b[90m@ Oceananigans.Models.NonhydrostaticModels ~/development/drakkar2025-demo-oceananigans/depot/packages/Oceananigans/qkc3X/src/Models/NonhydrostaticModels/nonhydrostatic_model.jl:248\u001b[39m\n"
     ]
    },
    {
     "data": {
      "text/plain": [
       "NonhydrostaticModel{CPU, RectilinearGrid}(time = 0 seconds, iteration = 0)\n",
       "├── grid: 256×256×1 RectilinearGrid{Float64, Periodic, Periodic, Flat} on CPU with 4×4×0 halo\n",
       "├── timestepper: RungeKutta3TimeStepper\n",
       "├── advection scheme: WENO(order=7)\n",
       "├── tracers: c\n",
       "├── closure: Nothing\n",
       "├── buoyancy: Nothing\n",
       "└── coriolis: Nothing"
      ]
     },
     "execution_count": 3,
     "metadata": {},
     "output_type": "execute_result"
    }
   ],
   "source": [
    "model = NonhydrostaticModel(; grid, advection=WENO(order=7), tracers=:c)"
   ]
  },
  {
   "cell_type": "code",
   "execution_count": 5,
   "id": "db24ef1d-afc4-4c63-b687-3555f5a9c525",
   "metadata": {},
   "outputs": [
    {
     "data": {
      "text/plain": [
       "initial_velocity (generic function with 1 method)"
      ]
     },
     "execution_count": 5,
     "metadata": {},
     "output_type": "execute_result"
    }
   ],
   "source": [
    "initial_velocity(x, y) = 2rand() - 1"
   ]
  },
  {
   "cell_type": "code",
   "execution_count": 6,
   "id": "91538cbe-6b19-4a27-8929-d59096775d92",
   "metadata": {},
   "outputs": [
    {
     "data": {
      "text/plain": [
       "initial_tracer (generic function with 1 method)"
      ]
     },
     "execution_count": 6,
     "metadata": {},
     "output_type": "execute_result"
    }
   ],
   "source": [
    "initial_tracer(x, y) = exp(-(x^2 + y^2)/2)"
   ]
  },
  {
   "cell_type": "code",
   "execution_count": 7,
   "id": "8363bed3-716b-4acb-8602-05e4619bca5d",
   "metadata": {},
   "outputs": [],
   "source": [
    "set!(model, u=initial_velocity, v=initial_velocity, c=initial_tracer)"
   ]
  },
  {
   "cell_type": "code",
   "execution_count": 8,
   "id": "5d11eec2-99ae-451d-9b9e-f012a4e2f5fa",
   "metadata": {},
   "outputs": [
    {
     "data": {
      "text/plain": [
       "Simulation of NonhydrostaticModel{CPU, RectilinearGrid}(time = 0 seconds, iteration = 0)\n",
       "├── Next time step: 100 ms\n",
       "├── Elapsed wall time: 0 seconds\n",
       "├── Wall time per iteration: NaN days\n",
       "├── Stop time: 10 seconds\n",
       "├── Stop iteration: Inf\n",
       "├── Wall time limit: Inf\n",
       "├── Callbacks: OrderedDict with 4 entries:\n",
       "│   ├── stop_time_exceeded => Callback of stop_time_exceeded on IterationInterval(1)\n",
       "│   ├── stop_iteration_exceeded => Callback of stop_iteration_exceeded on IterationInterval(1)\n",
       "│   ├── wall_time_limit_exceeded => Callback of wall_time_limit_exceeded on IterationInterval(1)\n",
       "│   └── nan_checker => Callback of NaNChecker for u on IterationInterval(100)\n",
       "├── Output writers: OrderedDict with no entries\n",
       "└── Diagnostics: OrderedDict with no entries"
      ]
     },
     "execution_count": 8,
     "metadata": {},
     "output_type": "execute_result"
    }
   ],
   "source": [
    "simulation = Simulation(model, Δt=0.1, stop_time=10)"
   ]
  },
  {
   "cell_type": "code",
   "execution_count": 9,
   "id": "68947166-042a-4016-9517-8ea010dc668f",
   "metadata": {},
   "outputs": [],
   "source": [
    "conjure_time_step_wizard!(simulation, cfl=0.7)"
   ]
  },
  {
   "cell_type": "code",
   "execution_count": null,
   "id": "f36618b1-b44b-4741-a8e8-2fd23b101036",
   "metadata": {},
   "outputs": [
    {
     "name": "stderr",
     "output_type": "stream",
     "text": [
      "\u001b[36m\u001b[1m[ \u001b[22m\u001b[39m\u001b[36m\u001b[1mInfo: \u001b[22m\u001b[39mInitializing simulation...\n",
      "\u001b[36m\u001b[1m[ \u001b[22m\u001b[39m\u001b[36m\u001b[1mInfo: \u001b[22m\u001b[39m    ... simulation initialization complete (3.442 seconds)\n",
      "\u001b[36m\u001b[1m[ \u001b[22m\u001b[39m\u001b[36m\u001b[1mInfo: \u001b[22m\u001b[39mExecuting initial time step...\n",
      "\u001b[36m\u001b[1m[ \u001b[22m\u001b[39m\u001b[36m\u001b[1mInfo: \u001b[22m\u001b[39m    ... initial time step complete (2.488 seconds).\n"
     ]
    }
   ],
   "source": [
    "run!(simulation)"
   ]
  },
  {
   "cell_type": "code",
   "execution_count": null,
   "id": "048c5156-e4b1-4e7c-b94d-46048a6ff7d4",
   "metadata": {},
   "outputs": [],
   "source": []
  }
 ],
 "metadata": {
  "kernelspec": {
   "display_name": "Julia 1.10.7",
   "language": "julia",
   "name": "julia-1.10"
  },
  "language_info": {
   "file_extension": ".jl",
   "mimetype": "application/julia",
   "name": "julia",
   "version": "1.10.7"
  }
 },
 "nbformat": 4,
 "nbformat_minor": 5
}
